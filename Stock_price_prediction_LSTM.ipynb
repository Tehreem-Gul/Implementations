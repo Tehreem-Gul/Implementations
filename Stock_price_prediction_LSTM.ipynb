{
  "nbformat": 4,
  "nbformat_minor": 0,
  "metadata": {
    "colab": {
      "provenance": []
    },
    "kernelspec": {
      "name": "python3",
      "display_name": "Python 3"
    },
    "language_info": {
      "name": "python"
    }
  },
  "cells": [
    {
      "cell_type": "code",
      "execution_count": null,
      "metadata": {
        "id": "nTpQnQJ0fCrx"
      },
      "outputs": [],
      "source": [
        "# Importing the libraries\n",
        "\n",
        "import numpy as np\n",
        "import matplotlib.pyplot as plt\n",
        "import pandas as pd"
      ]
    },
    {
      "cell_type": "code",
      "source": [
        "from sklearn.svm import SVC, LinearSVC\n",
        "from sklearn.ensemble import RandomForestClassifier , GradientBoostingClassifier\n",
        "from sklearn.model_selection import StratifiedKFold\n",
        "from sklearn.model_selection import train_test_split"
      ],
      "metadata": {
        "id": "wMIhsym-dsG8"
      },
      "execution_count": null,
      "outputs": []
    },
    {
      "cell_type": "code",
      "source": [
        "import warnings\n",
        "warnings.filterwarnings('ignore')\n",
        "import numpy as np\n",
        "import pandas as pd\n",
        "from sklearn import preprocessing\n",
        "from sklearn.model_selection import KFold, cross_val_score, cross_val_predict, GridSearchCV\n",
        "from sklearn.tree import DecisionTreeClassifier\n",
        "from sklearn.linear_model import LogisticRegression, Perceptron, SGDClassifier\n",
        "from sklearn.neighbors import KNeighborsClassifier\n",
        "from sklearn.naive_bayes import GaussianNB\n",
        "from sklearn.svm import SVC, LinearSVC\n",
        "from sklearn.ensemble import RandomForestClassifier , GradientBoostingClassifier\n",
        "from sklearn.model_selection import StratifiedKFold\n",
        "from sklearn.model_selection import train_test_split\n",
        "from sklearn.feature_selection import RFECV\n",
        "from sklearn.metrics import make_scorer, accuracy_score, classification_report, confusion_matrix, mean_squared_error\n",
        "import matplotlib as mpl\n",
        "import matplotlib.pyplot as plt\n",
        "import matplotlib.pylab as pylab\n",
        "import seaborn as sns\n",
        "from pandas import get_dummies\n",
        "import xgboost as xgb\n",
        "import scipy\n",
        "import math\n",
        "import json\n",
        "import sys\n",
        "import csv\n",
        "import os\n",
        "import tqdm\n",
        "import keras\n",
        "from keras.models import Sequential\n",
        "from keras.layers import Dense, LSTM, Dropout, GRU, Bidirectional\n",
        "from keras.optimizers import SGD\n",
        "from tqdm import tqdm_notebook"
      ],
      "metadata": {
        "id": "3U-ekoGWdocw"
      },
      "execution_count": null,
      "outputs": []
    },
    {
      "cell_type": "code",
      "source": [
        "# Importing the training set\n",
        "dataset_train = pd.read_csv('/content/sample_data/SBE-BANK.csv')\n",
        "training_set = dataset_train.iloc[:, 1:2].values"
      ],
      "metadata": {
        "id": "icprWoFifxCz"
      },
      "execution_count": null,
      "outputs": []
    },
    {
      "cell_type": "code",
      "source": [
        "dataset_train.head(5)"
      ],
      "metadata": {
        "colab": {
          "base_uri": "https://localhost:8080/",
          "height": 206
        },
        "id": "CnHFKQaRf2NH",
        "outputId": "f0c1c5b7-301b-4d02-93a6-ec2c206268ce"
      },
      "execution_count": null,
      "outputs": [
        {
          "output_type": "execute_result",
          "data": {
            "text/plain": [
              "         Date    Open    High     Low    Last   Close  Total Trade Quantity  \\\n",
              "0  2018-09-28  234.05  235.95  230.20  233.50  233.75               3069914   \n",
              "1  2018-09-27  234.55  236.80  231.10  233.80  233.25               5082859   \n",
              "2  2018-09-26  240.00  240.00  232.50  235.00  234.25               2240909   \n",
              "3  2018-09-25  233.30  236.75  232.00  236.25  236.10               2349368   \n",
              "4  2018-09-24  233.55  239.20  230.75  234.00  233.30               3423509   \n",
              "\n",
              "   Turnover (Lacs)  \n",
              "0          7162.35  \n",
              "1         11859.95  \n",
              "2          5248.60  \n",
              "3          5503.90  \n",
              "4          7999.55  "
            ],
            "text/html": [
              "\n",
              "  <div id=\"df-d75c8a6b-10b5-4a51-83fb-cb79ab5f0248\">\n",
              "    <div class=\"colab-df-container\">\n",
              "      <div>\n",
              "<style scoped>\n",
              "    .dataframe tbody tr th:only-of-type {\n",
              "        vertical-align: middle;\n",
              "    }\n",
              "\n",
              "    .dataframe tbody tr th {\n",
              "        vertical-align: top;\n",
              "    }\n",
              "\n",
              "    .dataframe thead th {\n",
              "        text-align: right;\n",
              "    }\n",
              "</style>\n",
              "<table border=\"1\" class=\"dataframe\">\n",
              "  <thead>\n",
              "    <tr style=\"text-align: right;\">\n",
              "      <th></th>\n",
              "      <th>Date</th>\n",
              "      <th>Open</th>\n",
              "      <th>High</th>\n",
              "      <th>Low</th>\n",
              "      <th>Last</th>\n",
              "      <th>Close</th>\n",
              "      <th>Total Trade Quantity</th>\n",
              "      <th>Turnover (Lacs)</th>\n",
              "    </tr>\n",
              "  </thead>\n",
              "  <tbody>\n",
              "    <tr>\n",
              "      <th>0</th>\n",
              "      <td>2018-09-28</td>\n",
              "      <td>234.05</td>\n",
              "      <td>235.95</td>\n",
              "      <td>230.20</td>\n",
              "      <td>233.50</td>\n",
              "      <td>233.75</td>\n",
              "      <td>3069914</td>\n",
              "      <td>7162.35</td>\n",
              "    </tr>\n",
              "    <tr>\n",
              "      <th>1</th>\n",
              "      <td>2018-09-27</td>\n",
              "      <td>234.55</td>\n",
              "      <td>236.80</td>\n",
              "      <td>231.10</td>\n",
              "      <td>233.80</td>\n",
              "      <td>233.25</td>\n",
              "      <td>5082859</td>\n",
              "      <td>11859.95</td>\n",
              "    </tr>\n",
              "    <tr>\n",
              "      <th>2</th>\n",
              "      <td>2018-09-26</td>\n",
              "      <td>240.00</td>\n",
              "      <td>240.00</td>\n",
              "      <td>232.50</td>\n",
              "      <td>235.00</td>\n",
              "      <td>234.25</td>\n",
              "      <td>2240909</td>\n",
              "      <td>5248.60</td>\n",
              "    </tr>\n",
              "    <tr>\n",
              "      <th>3</th>\n",
              "      <td>2018-09-25</td>\n",
              "      <td>233.30</td>\n",
              "      <td>236.75</td>\n",
              "      <td>232.00</td>\n",
              "      <td>236.25</td>\n",
              "      <td>236.10</td>\n",
              "      <td>2349368</td>\n",
              "      <td>5503.90</td>\n",
              "    </tr>\n",
              "    <tr>\n",
              "      <th>4</th>\n",
              "      <td>2018-09-24</td>\n",
              "      <td>233.55</td>\n",
              "      <td>239.20</td>\n",
              "      <td>230.75</td>\n",
              "      <td>234.00</td>\n",
              "      <td>233.30</td>\n",
              "      <td>3423509</td>\n",
              "      <td>7999.55</td>\n",
              "    </tr>\n",
              "  </tbody>\n",
              "</table>\n",
              "</div>\n",
              "      <button class=\"colab-df-convert\" onclick=\"convertToInteractive('df-d75c8a6b-10b5-4a51-83fb-cb79ab5f0248')\"\n",
              "              title=\"Convert this dataframe to an interactive table.\"\n",
              "              style=\"display:none;\">\n",
              "        \n",
              "  <svg xmlns=\"http://www.w3.org/2000/svg\" height=\"24px\"viewBox=\"0 0 24 24\"\n",
              "       width=\"24px\">\n",
              "    <path d=\"M0 0h24v24H0V0z\" fill=\"none\"/>\n",
              "    <path d=\"M18.56 5.44l.94 2.06.94-2.06 2.06-.94-2.06-.94-.94-2.06-.94 2.06-2.06.94zm-11 1L8.5 8.5l.94-2.06 2.06-.94-2.06-.94L8.5 2.5l-.94 2.06-2.06.94zm10 10l.94 2.06.94-2.06 2.06-.94-2.06-.94-.94-2.06-.94 2.06-2.06.94z\"/><path d=\"M17.41 7.96l-1.37-1.37c-.4-.4-.92-.59-1.43-.59-.52 0-1.04.2-1.43.59L10.3 9.45l-7.72 7.72c-.78.78-.78 2.05 0 2.83L4 21.41c.39.39.9.59 1.41.59.51 0 1.02-.2 1.41-.59l7.78-7.78 2.81-2.81c.8-.78.8-2.07 0-2.86zM5.41 20L4 18.59l7.72-7.72 1.47 1.35L5.41 20z\"/>\n",
              "  </svg>\n",
              "      </button>\n",
              "      \n",
              "  <style>\n",
              "    .colab-df-container {\n",
              "      display:flex;\n",
              "      flex-wrap:wrap;\n",
              "      gap: 12px;\n",
              "    }\n",
              "\n",
              "    .colab-df-convert {\n",
              "      background-color: #E8F0FE;\n",
              "      border: none;\n",
              "      border-radius: 50%;\n",
              "      cursor: pointer;\n",
              "      display: none;\n",
              "      fill: #1967D2;\n",
              "      height: 32px;\n",
              "      padding: 0 0 0 0;\n",
              "      width: 32px;\n",
              "    }\n",
              "\n",
              "    .colab-df-convert:hover {\n",
              "      background-color: #E2EBFA;\n",
              "      box-shadow: 0px 1px 2px rgba(60, 64, 67, 0.3), 0px 1px 3px 1px rgba(60, 64, 67, 0.15);\n",
              "      fill: #174EA6;\n",
              "    }\n",
              "\n",
              "    [theme=dark] .colab-df-convert {\n",
              "      background-color: #3B4455;\n",
              "      fill: #D2E3FC;\n",
              "    }\n",
              "\n",
              "    [theme=dark] .colab-df-convert:hover {\n",
              "      background-color: #434B5C;\n",
              "      box-shadow: 0px 1px 3px 1px rgba(0, 0, 0, 0.15);\n",
              "      filter: drop-shadow(0px 1px 2px rgba(0, 0, 0, 0.3));\n",
              "      fill: #FFFFFF;\n",
              "    }\n",
              "  </style>\n",
              "\n",
              "      <script>\n",
              "        const buttonEl =\n",
              "          document.querySelector('#df-d75c8a6b-10b5-4a51-83fb-cb79ab5f0248 button.colab-df-convert');\n",
              "        buttonEl.style.display =\n",
              "          google.colab.kernel.accessAllowed ? 'block' : 'none';\n",
              "\n",
              "        async function convertToInteractive(key) {\n",
              "          const element = document.querySelector('#df-d75c8a6b-10b5-4a51-83fb-cb79ab5f0248');\n",
              "          const dataTable =\n",
              "            await google.colab.kernel.invokeFunction('convertToInteractive',\n",
              "                                                     [key], {});\n",
              "          if (!dataTable) return;\n",
              "\n",
              "          const docLinkHtml = 'Like what you see? Visit the ' +\n",
              "            '<a target=\"_blank\" href=https://colab.research.google.com/notebooks/data_table.ipynb>data table notebook</a>'\n",
              "            + ' to learn more about interactive tables.';\n",
              "          element.innerHTML = '';\n",
              "          dataTable['output_type'] = 'display_data';\n",
              "          await google.colab.output.renderOutput(dataTable, element);\n",
              "          const docLink = document.createElement('div');\n",
              "          docLink.innerHTML = docLinkHtml;\n",
              "          element.appendChild(docLink);\n",
              "        }\n",
              "      </script>\n",
              "    </div>\n",
              "  </div>\n",
              "  "
            ]
          },
          "metadata": {},
          "execution_count": 29
        }
      ]
    },
    {
      "cell_type": "code",
      "source": [
        "# Feature Scalling\n",
        "from sklearn.preprocessing import MinMaxScaler\n",
        "sc = MinMaxScaler(feature_range = (0, 1))\n",
        "training_set_scaled = sc.fit_transform(training_set)"
      ],
      "metadata": {
        "id": "6jlz1cOhf2I8"
      },
      "execution_count": null,
      "outputs": []
    },
    {
      "cell_type": "code",
      "source": [
        "# Creating a data structure with 60 timesteps and 1 output\n",
        "#A time step is a single occurrence of the cell -\n",
        "# e.g. on the first time step you produce output1, h0, on the second time step you produce output2 and so on\n",
        "X_train = []\n",
        "y_train = []\n",
        "for i in range(60, 2035):\n",
        "    X_train.append(training_set_scaled[i-60:i, 0])\n",
        "    y_train.append(training_set_scaled[i, 0])\n",
        "X_train, y_train = np.array(X_train), np.array(y_train)"
      ],
      "metadata": {
        "id": "B0LUb7bzf2GV"
      },
      "execution_count": null,
      "outputs": []
    },
    {
      "cell_type": "code",
      "source": [
        "# Reshaping\n",
        "X_train = np.reshape(X_train, (X_train.shape[0], X_train.shape[1], 1))"
      ],
      "metadata": {
        "id": "WDzl5w5ff2EE"
      },
      "execution_count": null,
      "outputs": []
    },
    {
      "cell_type": "code",
      "source": [
        "# Part 2 - Building the RNN\n",
        "\n",
        "# Importing the Keras libraries and packages\n",
        "from keras.models import Sequential\n",
        "from keras.layers import Dense\n",
        "from keras.layers import LSTM\n",
        "from keras.layers import Dropout"
      ],
      "metadata": {
        "id": "B7GIWJRIf2Bj"
      },
      "execution_count": null,
      "outputs": []
    },
    {
      "cell_type": "code",
      "source": [
        "# Initialising the RNN\n",
        "regressor = Sequential()\n",
        "\n",
        "# Adding the first LSTM layer and some Dropout regularisation\n",
        "regressor.add(LSTM(units = 50, return_sequences = True, input_shape = (X_train.shape[1], 1)))\n",
        "regressor.add(Dropout(0.3))"
      ],
      "metadata": {
        "id": "CQQqYuYyf1-5"
      },
      "execution_count": null,
      "outputs": []
    },
    {
      "cell_type": "code",
      "source": [
        "# Adding a second LSTM layer and some Dropout regularisation\n",
        "regressor.add(LSTM(units = 50, return_sequences = True))\n",
        "regressor.add(Dropout(0.3))"
      ],
      "metadata": {
        "id": "QH_RxOFMf18D"
      },
      "execution_count": null,
      "outputs": []
    },
    {
      "cell_type": "code",
      "source": [
        "# Adding a third LSTM layer and some Dropout regularisation\n",
        "regressor.add(LSTM(units = 50, return_sequences = True))\n",
        "regressor.add(Dropout(0.3))"
      ],
      "metadata": {
        "id": "ov0tUOnkf15l"
      },
      "execution_count": null,
      "outputs": []
    },
    {
      "cell_type": "code",
      "source": [
        "# Adding a fourth LSTM layer and some Dropout regularisation\n",
        "regressor.add(LSTM(units = 50))\n",
        "regressor.add(Dropout(0.3))"
      ],
      "metadata": {
        "id": "tEzlHA6gf127"
      },
      "execution_count": null,
      "outputs": []
    },
    {
      "cell_type": "code",
      "source": [
        "# Adding the output layer\n",
        "regressor.add(Dense(units = 1))\n",
        "\n",
        "# Compiling the RNN\n",
        "regressor.compile(optimizer = 'adam', loss = 'mean_squared_error')\n",
        "\n",
        "# Fitting the RNN to the Training set\n",
        "regressor.fit(X_train, y_train, epochs = 3, batch_size = 32)"
      ],
      "metadata": {
        "colab": {
          "base_uri": "https://localhost:8080/"
        },
        "id": "DCkBsTmjf10Q",
        "outputId": "f32636d5-54ca-413f-88d9-54973668c45f"
      },
      "execution_count": null,
      "outputs": [
        {
          "output_type": "stream",
          "name": "stdout",
          "text": [
            "Epoch 1/3\n",
            "62/62 [==============================] - 18s 148ms/step - loss: 0.0134\n",
            "Epoch 2/3\n",
            "62/62 [==============================] - 9s 151ms/step - loss: 0.0035\n",
            "Epoch 3/3\n",
            "62/62 [==============================] - 8s 136ms/step - loss: 0.0040\n"
          ]
        },
        {
          "output_type": "execute_result",
          "data": {
            "text/plain": [
              "<keras.callbacks.History at 0x7f1edf342590>"
            ]
          },
          "metadata": {},
          "execution_count": 38
        }
      ]
    },
    {
      "cell_type": "code",
      "source": [
        "# Part 3 - Making the predictions and visualising the results\n",
        "\n",
        "# Getting the real stock price of 2017\n",
        "dataset_test = pd.read_csv('/content/sample_data/SBE-BANK.csv')\n",
        "real_stock_price = dataset_test.iloc[:, 1:2].values"
      ],
      "metadata": {
        "id": "W3hiGdcMf1yu"
      },
      "execution_count": null,
      "outputs": []
    },
    {
      "cell_type": "code",
      "source": [
        "# Getting the predicted stock price of 2017\n",
        "dataset_total = pd.concat((dataset_train['Open'], dataset_test['Open']), axis = 0)\n",
        "inputs = dataset_total[len(dataset_total) - len(dataset_test) - 60:].values\n",
        "inputs = inputs.reshape(-1,1)\n",
        "inputs = sc.transform(inputs)\n",
        "X_test = []\n",
        "for i in range(60, 76):\n",
        "    X_test.append(inputs[i-60:i, 0])\n",
        "X_test = np.array(X_test)\n",
        "X_test = np.reshape(X_test, (X_test.shape[0], X_test.shape[1], 1))\n",
        "predicted_stock_price = regressor.predict(X_test)\n",
        "predicted_stock_price = sc.inverse_transform(predicted_stock_price)"
      ],
      "metadata": {
        "colab": {
          "base_uri": "https://localhost:8080/"
        },
        "id": "N8lqNB9-gbL6",
        "outputId": "7fbe56f2-e99d-4867-b131-fd573631298f"
      },
      "execution_count": null,
      "outputs": [
        {
          "output_type": "stream",
          "name": "stdout",
          "text": [
            "1/1 [==============================] - 2s 2s/step\n"
          ]
        }
      ]
    },
    {
      "cell_type": "code",
      "source": [
        "# Visualising the results\n",
        "plt.plot(real_stock_price, color = 'red', label = 'SBE Stock Price')\n",
        "plt.plot(predicted_stock_price, color = 'blue', label = 'Predicted SBE Stock Price')\n",
        "plt.title('SBE Stock Price Prediction')\n",
        "plt.xlabel('Time')\n",
        "plt.ylabel('SBE Stock Price')\n",
        "plt.legend()\n",
        "plt.show()"
      ],
      "metadata": {
        "colab": {
          "base_uri": "https://localhost:8080/",
          "height": 472
        },
        "id": "7sc8GvI2gfuo",
        "outputId": "0cdb94b3-2e05-4cbe-832f-8d0880132d32"
      },
      "execution_count": null,
      "outputs": [
        {
          "output_type": "display_data",
          "data": {
            "text/plain": [
              "<Figure size 640x480 with 1 Axes>"
            ],
            "image/png": "[encoded data removed]"
          },
          "metadata": {}
        }
      ]
    },
    {
      "cell_type": "code",
      "source": [
        "regressorGRU = Sequential()\n",
        "# First GRU layer with Dropout regularisation\n",
        "regressorGRU.add(GRU(units=50, return_sequences=True, input_shape=(X_train.shape[1],1), activation='tanh'))\n",
        "regressorGRU.add(Dropout(0.2))\n",
        "# Second GRU layer\n",
        "regressorGRU.add(GRU(units=50, return_sequences=True, input_shape=(X_train.shape[1],1), activation='tanh'))\n",
        "regressorGRU.add(Dropout(0.2))\n",
        "# Third GRU layer\n",
        "regressorGRU.add(GRU(units=50, return_sequences=True, input_shape=(X_train.shape[1],1), activation='tanh'))\n",
        "regressorGRU.add(Dropout(0.2))\n",
        "# Fourth GRU layer\n",
        "regressorGRU.add(GRU(units=50, activation='tanh'))\n",
        "regressorGRU.add(Dropout(0.2))\n",
        "# The output layer\n",
        "regressorGRU.add(Dense(units=1))\n",
        "# Compiling the RNN\n",
        "regressorGRU.compile(optimizer=SGD(lr=0.01, decay=1e-7, momentum=0.9, nesterov=False),loss='mean_squared_error')\n",
        "# Fitting to the training set\n",
        "regressorGRU.fit(X_train,y_train,epochs=50,batch_size=150)"
      ],
      "metadata": {
        "id": "elzHX6AQgfpt",
        "colab": {
          "base_uri": "https://localhost:8080/"
        },
        "outputId": "bd2e4b28-f79b-4499-d025-bea0858e5a59"
      },
      "execution_count": null,
      "outputs": [
        {
          "output_type": "stream",
          "name": "stdout",
          "text": [
            "Epoch 1/50\n",
            "14/14 [==============================] - 12s 273ms/step - loss: 0.0448\n",
            "Epoch 2/50\n",
            "14/14 [==============================] - 5s 326ms/step - loss: 0.0275\n",
            "Epoch 3/50\n",
            "14/14 [==============================] - 4s 264ms/step - loss: 0.0166\n",
            "Epoch 4/50\n",
            "14/14 [==============================] - 4s 263ms/step - loss: 0.0090\n",
            "Epoch 5/50\n",
            "14/14 [==============================] - 5s 349ms/step - loss: 0.0037\n",
            "Epoch 6/50\n",
            "14/14 [==============================] - 4s 270ms/step - loss: 0.0022\n",
            "Epoch 7/50\n",
            "14/14 [==============================] - 4s 262ms/step - loss: 0.0020\n",
            "Epoch 8/50\n",
            "14/14 [==============================] - 6s 447ms/step - loss: 0.0023\n",
            "Epoch 9/50\n",
            "14/14 [==============================] - 4s 265ms/step - loss: 0.0019\n",
            "Epoch 10/50\n",
            "14/14 [==============================] - 4s 259ms/step - loss: 0.0018\n",
            "Epoch 11/50\n",
            "14/14 [==============================] - 5s 347ms/step - loss: 0.0019\n",
            "Epoch 12/50\n",
            "14/14 [==============================] - 4s 261ms/step - loss: 0.0020\n",
            "Epoch 13/50\n",
            "14/14 [==============================] - 4s 263ms/step - loss: 0.0018\n",
            "Epoch 14/50\n",
            "14/14 [==============================] - 4s 325ms/step - loss: 0.0017\n",
            "Epoch 15/50\n",
            "14/14 [==============================] - 4s 269ms/step - loss: 0.0020\n",
            "Epoch 16/50\n",
            "14/14 [==============================] - 4s 266ms/step - loss: 0.0018\n",
            "Epoch 17/50\n",
            "14/14 [==============================] - 4s 295ms/step - loss: 0.0016\n",
            "Epoch 18/50\n",
            "14/14 [==============================] - 4s 306ms/step - loss: 0.0017\n",
            "Epoch 19/50\n",
            "14/14 [==============================] - 4s 265ms/step - loss: 0.0019\n",
            "Epoch 20/50\n",
            "14/14 [==============================] - 4s 274ms/step - loss: 0.0017\n",
            "Epoch 21/50\n",
            "14/14 [==============================] - 5s 327ms/step - loss: 0.0016\n",
            "Epoch 22/50\n",
            "14/14 [==============================] - 4s 264ms/step - loss: 0.0017\n",
            "Epoch 23/50\n",
            "14/14 [==============================] - 4s 264ms/step - loss: 0.0018\n",
            "Epoch 24/50\n",
            "14/14 [==============================] - 5s 344ms/step - loss: 0.0018\n",
            "Epoch 25/50\n",
            "14/14 [==============================] - 4s 266ms/step - loss: 0.0016\n",
            "Epoch 26/50\n",
            "14/14 [==============================] - 4s 262ms/step - loss: 0.0018\n",
            "Epoch 27/50\n",
            "14/14 [==============================] - 5s 351ms/step - loss: 0.0017\n",
            "Epoch 28/50\n",
            "14/14 [==============================] - 4s 259ms/step - loss: 0.0017\n",
            "Epoch 29/50\n",
            "14/14 [==============================] - 3s 243ms/step - loss: 0.0015\n",
            "Epoch 30/50\n",
            "14/14 [==============================] - 5s 346ms/step - loss: 0.0015\n",
            "Epoch 31/50\n",
            "14/14 [==============================] - 4s 259ms/step - loss: 0.0016\n",
            "Epoch 32/50\n",
            "14/14 [==============================] - 4s 260ms/step - loss: 0.0016\n",
            "Epoch 33/50\n",
            "14/14 [==============================] - 5s 353ms/step - loss: 0.0016\n",
            "Epoch 34/50\n",
            "14/14 [==============================] - 4s 262ms/step - loss: 0.0016\n",
            "Epoch 35/50\n",
            "14/14 [==============================] - 4s 263ms/step - loss: 0.0017\n",
            "Epoch 36/50\n",
            "14/14 [==============================] - 5s 345ms/step - loss: 0.0016\n",
            "Epoch 37/50\n",
            "14/14 [==============================] - 4s 250ms/step - loss: 0.0016\n",
            "Epoch 38/50\n",
            "14/14 [==============================] - 3s 247ms/step - loss: 0.0016\n",
            "Epoch 39/50\n",
            "14/14 [==============================] - 4s 286ms/step - loss: 0.0015\n",
            "Epoch 40/50\n",
            "14/14 [==============================] - 4s 306ms/step - loss: 0.0016\n",
            "Epoch 41/50\n",
            "14/14 [==============================] - 4s 264ms/step - loss: 0.0014\n",
            "Epoch 42/50\n",
            "14/14 [==============================] - 4s 254ms/step - loss: 0.0015\n",
            "Epoch 43/50\n",
            "14/14 [==============================] - 5s 337ms/step - loss: 0.0014\n",
            "Epoch 44/50\n",
            "14/14 [==============================] - 4s 260ms/step - loss: 0.0016\n",
            "Epoch 45/50\n",
            "14/14 [==============================] - 4s 264ms/step - loss: 0.0016\n",
            "Epoch 46/50\n",
            "14/14 [==============================] - 5s 353ms/step - loss: 0.0016\n",
            "Epoch 47/50\n",
            "14/14 [==============================] - 4s 259ms/step - loss: 0.0017\n",
            "Epoch 48/50\n",
            "14/14 [==============================] - 4s 270ms/step - loss: 0.0016\n",
            "Epoch 49/50\n",
            "14/14 [==============================] - 5s 352ms/step - loss: 0.0013\n",
            "Epoch 50/50\n",
            "14/14 [==============================] - 4s 266ms/step - loss: 0.0016\n"
          ]
        },
        {
          "output_type": "execute_result",
          "data": {
            "text/plain": [
              "<keras.callbacks.History at 0x7f1ef7d82c50>"
            ]
          },
          "metadata": {},
          "execution_count": 42
        }
      ]
    },
    {
      "cell_type": "code",
      "source": [
        "X_test = []\n",
        "for i in range(60,311):\n",
        "    X_test.append(inputs[i-60:i,0])\n",
        "X_test = np.array(X_test)\n",
        "X_test = np.reshape(X_test, (X_test.shape[0],X_test.shape[1],1))\n",
        "GRU_predicted_stock_price = regressorGRU.predict(X_test)\n",
        "GRU_predicted_stock_price = sc.inverse_transform(GRU_predicted_stock_price)"
      ],
      "metadata": {
        "colab": {
          "base_uri": "https://localhost:8080/"
        },
        "id": "SOtIdvXudPF0",
        "outputId": "43f3e869-2027-44e7-d09a-591d1a06c419"
      },
      "execution_count": null,
      "outputs": [
        {
          "output_type": "stream",
          "name": "stdout",
          "text": [
            "8/8 [==============================] - 2s 35ms/step\n"
          ]
        }
      ]
    }
  ]
}