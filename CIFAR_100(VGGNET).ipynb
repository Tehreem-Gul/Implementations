{
  "nbformat": 4,
  "nbformat_minor": 0,
  "metadata": {
    "colab": {
      "provenance": []
    },
    "kernelspec": {
      "name": "python3",
      "display_name": "Python 3"
    },
    "language_info": {
      "name": "python"
    },
    "accelerator": "GPU",
    "gpuClass": "standard"
  },
  "cells": [
    {
      "cell_type": "code",
      "execution_count": null,
      "metadata": {
        "id": "WvJVRV2TtmoN"
      },
      "outputs": [],
      "source": [
        "import tensorflow as tf\n",
        "from tensorflow import  keras\n",
        "from tensorflow.keras import datasets, Sequential\n",
        "from tensorflow.keras.layers import Dense,Flatten,Dropout\n",
        "import numpy as np\n",
        "import pandas as pd\n",
        "import matplotlib.pyplot as plt\n",
        "from tensorflow.keras.callbacks import EarlyStopping\n",
        "from tensorflow.keras.layers import Conv2D, MaxPooling2D, Dense, Flatten\n",
        "from keras.applications.vgg16 import VGG16"
      ]
    },
    {
      "cell_type": "code",
      "source": [
        "(X_train,y_train),(X_test,y_test) = datasets.cifar100.load_data()"
      ],
      "metadata": {
        "colab": {
          "base_uri": "https://localhost:8080/"
        },
        "id": "B3yzxUVGuqiW",
        "outputId": "b9a12b56-9dd4-4d8b-b9c1-592d4b3b843a"
      },
      "execution_count": null,
      "outputs": [
        {
          "output_type": "stream",
          "name": "stdout",
          "text": [
            "Downloading data from https://www.cs.toronto.edu/~kriz/cifar-100-python.tar.gz\n",
            "169001437/169001437 [==============================] - 13s 0us/step\n"
          ]
        }
      ]
    },
    {
      "cell_type": "code",
      "source": [
        "import matplotlib.pyplot as plt\n",
        "plt.imshow(X_train[0])"
      ],
      "metadata": {
        "colab": {
          "base_uri": "https://localhost:8080/",
          "height": 284
        },
        "id": "v_acIepKu4Tv",
        "outputId": "bfc807e7-bc4b-4d28-f542-7da6806a6c3f"
      },
      "execution_count": null,
      "outputs": [
        {
          "output_type": "execute_result",
          "data": {
            "text/plain": [
              "<matplotlib.image.AxesImage at 0x7fb29e2bfe20>"
            ]
          },
          "metadata": {},
          "execution_count": 3
        },
        {
          "output_type": "display_data",
          "data": {
            "text/plain": [
              "<Figure size 432x288 with 1 Axes>"
            ],
            "image/png": "[encoded data removed]"
          },
          "metadata": {
            "needs_background": "light"
          }
        }
      ]
    },
    {
      "cell_type": "code",
      "source": [
        "plt.imshow(X_train[3])"
      ],
      "metadata": {
        "colab": {
          "base_uri": "https://localhost:8080/",
          "height": 284
        },
        "id": "eei_pSVcu8yI",
        "outputId": "99294ab9-b714-44dc-adce-d272754e33d1"
      },
      "execution_count": null,
      "outputs": [
        {
          "output_type": "execute_result",
          "data": {
            "text/plain": [
              "<matplotlib.image.AxesImage at 0x7fb29e52a0d0>"
            ]
          },
          "metadata": {},
          "execution_count": 4
        },
        {
          "output_type": "display_data",
          "data": {
            "text/plain": [
              "<Figure size 432x288 with 1 Axes>"
            ],
            "image/png": "[encoded data removed]"
          },
          "metadata": {
            "needs_background": "light"
          }
        }
      ]
    },
    {
      "cell_type": "code",
      "source": [
        "X_train = X_train/255\n",
        "X_test = X_test/255"
      ],
      "metadata": {
        "id": "TWhlxivfu_Sm"
      },
      "execution_count": null,
      "outputs": []
    },
    {
      "cell_type": "code",
      "source": [
        "conv_base = VGG16(\n",
        "    weights='imagenet',\n",
        "    include_top = False,\n",
        "    input_shape=(32,32,3)\n",
        ")"
      ],
      "metadata": {
        "id": "lvrvXkhxvDHs",
        "colab": {
          "base_uri": "https://localhost:8080/"
        },
        "outputId": "4a9df27f-d16a-4821-c70a-d737571fc7d4"
      },
      "execution_count": null,
      "outputs": [
        {
          "output_type": "stream",
          "name": "stdout",
          "text": [
            "Downloading data from https://storage.googleapis.com/tensorflow/keras-applications/vgg16/vgg16_weights_tf_dim_ordering_tf_kernels_notop.h5\n",
            "58889256/58889256 [==============================] - 3s 0us/step\n"
          ]
        }
      ]
    },
    {
      "cell_type": "code",
      "source": [
        "model = Sequential()\n",
        "\n",
        "model.add(conv_base)\n",
        "model.add(Flatten())\n",
        "model.add(Dense(256,activation='relu'))\n",
        "model.add(Dense(256,activation='relu'))\n",
        "model.add(Dense(256,activation='relu'))\n",
        "model.add(Dense(256,activation='relu'))\n",
        "model.add(Dense(256,activation='relu'))\n",
        "model.add(Dense(256,activation='relu'))\n",
        "model.add(Dense(100,activation='softmax'))"
      ],
      "metadata": {
        "id": "TDrVBccUvKoo"
      },
      "execution_count": null,
      "outputs": []
    },
    {
      "cell_type": "code",
      "source": [
        "conv_base.trainable = False"
      ],
      "metadata": {
        "id": "7UMgWsCBvPo7"
      },
      "execution_count": null,
      "outputs": []
    },
    {
      "cell_type": "code",
      "source": [
        "from tensorflow.keras.utils import img_to_array, load_img"
      ],
      "metadata": {
        "id": "J6DV08WjvSoD"
      },
      "execution_count": null,
      "outputs": []
    },
    {
      "cell_type": "code",
      "source": [
        "from keras.preprocessing.image import ImageDataGenerator"
      ],
      "metadata": {
        "id": "hVIo4vlxvVUw"
      },
      "execution_count": null,
      "outputs": []
    },
    {
      "cell_type": "code",
      "source": [
        "model.compile(optimizer='adam',loss='sparse_categorical_crossentropy',metrics=['accuracy'])"
      ],
      "metadata": {
        "id": "syJe4ajYvlaL"
      },
      "execution_count": null,
      "outputs": []
    },
    {
      "cell_type": "code",
      "source": [
        "callback = EarlyStopping(\n",
        "    monitor=\"val_loss\",\n",
        "    min_delta=0.00001,\n",
        "    patience=20,\n",
        "    verbose=1,\n",
        "    mode=\"auto\",\n",
        "    baseline=None,\n",
        "    restore_best_weights=False\n",
        ")"
      ],
      "metadata": {
        "id": "rTNY0MRVwf3s"
      },
      "execution_count": null,
      "outputs": []
    },
    {
      "cell_type": "code",
      "source": [
        "history = model.fit(X_train,y_train,epochs=50,validation_split=0.2,callbacks=callback)"
      ],
      "metadata": {
        "id": "CTaJuR1KwUem",
        "colab": {
          "base_uri": "https://localhost:8080/"
        },
        "outputId": "dace81a1-c135-49b5-c1fc-1bea5e61ec10"
      },
      "execution_count": null,
      "outputs": [
        {
          "output_type": "stream",
          "name": "stdout",
          "text": [
            "Epoch 1/50\n",
            "1250/1250 [==============================] - 14s 11ms/step - loss: 1.1610 - accuracy: 0.6547 - val_loss: 4.5945 - val_accuracy: 0.2915\n",
            "Epoch 2/50\n",
            "1250/1250 [==============================] - 17s 13ms/step - loss: 1.1202 - accuracy: 0.6635 - val_loss: 4.5985 - val_accuracy: 0.2821\n",
            "Epoch 3/50\n",
            "1250/1250 [==============================] - 14s 11ms/step - loss: 1.0869 - accuracy: 0.6752 - val_loss: 4.7688 - val_accuracy: 0.2810\n",
            "Epoch 4/50\n",
            "1250/1250 [==============================] - 14s 11ms/step - loss: 1.0610 - accuracy: 0.6845 - val_loss: 4.9343 - val_accuracy: 0.2839\n",
            "Epoch 5/50\n",
            "1250/1250 [==============================] - 14s 11ms/step - loss: 1.0263 - accuracy: 0.6926 - val_loss: 5.0342 - val_accuracy: 0.2822\n",
            "Epoch 6/50\n",
            "1250/1250 [==============================] - 14s 11ms/step - loss: 0.9967 - accuracy: 0.6969 - val_loss: 4.9636 - val_accuracy: 0.2740\n",
            "Epoch 7/50\n",
            "1250/1250 [==============================] - 14s 11ms/step - loss: 0.9706 - accuracy: 0.7096 - val_loss: 5.1300 - val_accuracy: 0.2804\n",
            "Epoch 8/50\n",
            "1250/1250 [==============================] - 14s 11ms/step - loss: 0.9717 - accuracy: 0.7092 - val_loss: 5.2510 - val_accuracy: 0.2818\n",
            "Epoch 9/50\n",
            "1250/1250 [==============================] - 14s 11ms/step - loss: 0.9413 - accuracy: 0.7163 - val_loss: 5.4936 - val_accuracy: 0.2772\n",
            "Epoch 10/50\n",
            "1250/1250 [==============================] - 14s 11ms/step - loss: 0.9139 - accuracy: 0.7263 - val_loss: 5.5250 - val_accuracy: 0.2853\n",
            "Epoch 11/50\n",
            "1250/1250 [==============================] - 14s 11ms/step - loss: 0.9153 - accuracy: 0.7222 - val_loss: 5.4279 - val_accuracy: 0.2761\n",
            "Epoch 12/50\n",
            "1250/1250 [==============================] - 14s 11ms/step - loss: 0.8842 - accuracy: 0.7337 - val_loss: 5.7176 - val_accuracy: 0.2816\n",
            "Epoch 13/50\n",
            "1250/1250 [==============================] - 14s 11ms/step - loss: 0.8745 - accuracy: 0.7375 - val_loss: 5.8768 - val_accuracy: 0.2786\n",
            "Epoch 14/50\n",
            "1250/1250 [==============================] - 14s 11ms/step - loss: 0.8642 - accuracy: 0.7425 - val_loss: 5.8080 - val_accuracy: 0.2756\n",
            "Epoch 15/50\n",
            "1250/1250 [==============================] - 14s 11ms/step - loss: 0.8205 - accuracy: 0.7510 - val_loss: 5.8527 - val_accuracy: 0.2813\n",
            "Epoch 16/50\n",
            "1250/1250 [==============================] - 14s 11ms/step - loss: 0.8257 - accuracy: 0.7526 - val_loss: 5.9742 - val_accuracy: 0.2745\n",
            "Epoch 17/50\n",
            "1250/1250 [==============================] - 14s 11ms/step - loss: 0.8309 - accuracy: 0.7541 - val_loss: 6.1848 - val_accuracy: 0.2714\n",
            "Epoch 18/50\n",
            "1250/1250 [==============================] - 14s 11ms/step - loss: 0.7982 - accuracy: 0.7593 - val_loss: 6.2105 - val_accuracy: 0.2727\n",
            "Epoch 19/50\n",
            "1250/1250 [==============================] - 14s 11ms/step - loss: 0.7942 - accuracy: 0.7608 - val_loss: 6.1663 - val_accuracy: 0.2710\n",
            "Epoch 20/50\n",
            "1250/1250 [==============================] - 14s 11ms/step - loss: 0.7816 - accuracy: 0.7640 - val_loss: 6.5047 - val_accuracy: 0.2729\n",
            "Epoch 21/50\n",
            "1250/1250 [==============================] - 14s 11ms/step - loss: 0.7698 - accuracy: 0.7691 - val_loss: 6.4882 - val_accuracy: 0.2722\n",
            "Epoch 21: early stopping\n"
          ]
        }
      ]
    },
    {
      "cell_type": "code",
      "source": [],
      "metadata": {
        "id": "B7e7SIBiwtB6"
      },
      "execution_count": null,
      "outputs": []
    }
  ]
}