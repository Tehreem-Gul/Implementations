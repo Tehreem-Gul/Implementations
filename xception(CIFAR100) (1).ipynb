{
  "nbformat": 4,
  "nbformat_minor": 0,
  "metadata": {
    "colab": {
      "provenance": []
    },
    "kernelspec": {
      "name": "python3",
      "display_name": "Python 3"
    },
    "language_info": {
      "name": "python"
    },
    "accelerator": "GPU",
    "gpuClass": "standard"
  },
  "cells": [
    {
      "cell_type": "code",
      "execution_count": null,
      "metadata": {
        "id": "AQJMR6Jr7l9m"
      },
      "outputs": [],
      "source": [
        "import tensorflow as tf\n",
        "from tensorflow import  keras\n",
        "from tensorflow.keras import datasets, Sequential\n",
        "from tensorflow.keras.layers import Dense,Flatten,Dropout\n",
        "import numpy as np\n",
        "import pandas as pd\n",
        "import matplotlib.pyplot as plt\n",
        "from tensorflow.keras.callbacks import EarlyStopping\n",
        "from tensorflow.keras.layers import Conv2D, MaxPooling2D, Dense, Flatten\n",
        "\n"
      ]
    },
    {
      "cell_type": "code",
      "source": [
        "(X_train,y_train),(X_test,y_test) = datasets.cifar100.load_data()"
      ],
      "metadata": {
        "id": "ECVlYKju8Med",
        "colab": {
          "base_uri": "https://localhost:8080/"
        },
        "outputId": "30aa328a-ca40-4ec3-a88d-179101dd3556"
      },
      "execution_count": null,
      "outputs": [
        {
          "output_type": "stream",
          "name": "stdout",
          "text": [
            "Downloading data from https://www.cs.toronto.edu/~kriz/cifar-100-python.tar.gz\n",
            "169001437/169001437 [==============================] - 2s 0us/step\n"
          ]
        }
      ]
    },
    {
      "cell_type": "code",
      "source": [
        "import matplotlib.pyplot as plt\n",
        "plt.imshow(X_train[0])"
      ],
      "metadata": {
        "colab": {
          "base_uri": "https://localhost:8080/",
          "height": 448
        },
        "id": "H7TWOfUk8Og-",
        "outputId": "f3d7a505-09af-445e-af18-b373aa9a6176"
      },
      "execution_count": null,
      "outputs": [
        {
          "output_type": "execute_result",
          "data": {
            "text/plain": [
              "<matplotlib.image.AxesImage at 0x7f472bfb49a0>"
            ]
          },
          "metadata": {},
          "execution_count": 4
        },
        {
          "output_type": "display_data",
          "data": {
            "text/plain": [
              "<Figure size 640x480 with 1 Axes>"
            ],
            "image/png": "[encoded data removed]"
          },
          "metadata": {}
        }
      ]
    },
    {
      "cell_type": "code",
      "source": [
        "plt.imshow(X_train[3])"
      ],
      "metadata": {
        "colab": {
          "base_uri": "https://localhost:8080/",
          "height": 448
        },
        "id": "Q6n8f8uJ-Uyv",
        "outputId": "6c1ef94a-ebc1-4da9-a875-3c420d42c0ee"
      },
      "execution_count": null,
      "outputs": [
        {
          "output_type": "execute_result",
          "data": {
            "text/plain": [
              "<matplotlib.image.AxesImage at 0x7f472bdfc670>"
            ]
          },
          "metadata": {},
          "execution_count": 5
        },
        {
          "output_type": "display_data",
          "data": {
            "text/plain": [
              "<Figure size 640x480 with 1 Axes>"
            ],
            "image/png": "[encoded data removed]"
          },
          "metadata": {}
        }
      ]
    },
    {
      "cell_type": "code",
      "source": [
        "X_train = X_train/255\n",
        "X_test = X_test/255"
      ],
      "metadata": {
        "id": "tcEWB0aQ-a9K"
      },
      "execution_count": null,
      "outputs": []
    },
    {
      "cell_type": "code",
      "source": [
        "Xception_model = Sequential()\n",
        "\n",
        "pretrained_model = tf.keras.applications.Xception(include_top=False,\n",
        "                    weights=\"imagenet\",\n",
        "                    input_shape=(None),\n",
        "                     pooling='avg',\n",
        "                     classes=100,\n",
        "                     classifier_activation=\"softmax\",)\n",
        "for layer in pretrained_model.layers:\n",
        "        layer.trainable=False\n",
        "\n",
        "Xception_model.add(pretrained_model)\n",
        "Xception_model.add(Flatten())\n",
        "Xception_model.add(Dense(256,activation='relu'))\n",
        "Xception_model.add(Dense(256,activation='relu'))\n",
        "Xception_model.add(Dense(256,activation='relu'))\n",
        "Xception_model.add(Dense(256,activation='relu'))\n",
        "Xception_model.add(Dense(100,activation='softmax'))"
      ],
      "metadata": {
        "id": "dvn77nw0-d9A"
      },
      "execution_count": null,
      "outputs": []
    },
    {
      "cell_type": "code",
      "source": [
        "Xception_model.summary()"
      ],
      "metadata": {
        "colab": {
          "base_uri": "https://localhost:8080/"
        },
        "id": "OAWV5Zez-hmO",
        "outputId": "4c691464-0ddd-4124-d836-4c118a2a418f"
      },
      "execution_count": null,
      "outputs": [
        {
          "output_type": "stream",
          "name": "stdout",
          "text": [
            "Model: \"sequential_2\"\n",
            "_________________________________________________________________\n",
            " Layer (type)                Output Shape              Param #   \n",
            "=================================================================\n",
            " xception (Functional)       (None, 2048)              20861480  \n",
            "                                                                 \n",
            " flatten_2 (Flatten)         (None, 2048)              0         \n",
            "                                                                 \n",
            " dense_18 (Dense)            (None, 256)               524544    \n",
            "                                                                 \n",
            " dense_19 (Dense)            (None, 256)               65792     \n",
            "                                                                 \n",
            " dense_20 (Dense)            (None, 256)               65792     \n",
            "                                                                 \n",
            " dense_21 (Dense)            (None, 256)               65792     \n",
            "                                                                 \n",
            " dense_22 (Dense)            (None, 100)               25700     \n",
            "                                                                 \n",
            "=================================================================\n",
            "Total params: 21,609,100\n",
            "Trainable params: 747,620\n",
            "Non-trainable params: 20,861,480\n",
            "_________________________________________________________________\n"
          ]
        }
      ]
    },
    {
      "cell_type": "code",
      "source": [
        "Xception_model.compile(optimizer='adam',loss='sparse_categorical_crossentropy',metrics=['accuracy'])"
      ],
      "metadata": {
        "id": "7ftVN94G-kJh"
      },
      "execution_count": null,
      "outputs": []
    },
    {
      "cell_type": "code",
      "source": [
        "callback = EarlyStopping(\n",
        "    monitor=\"val_loss\",\n",
        "    min_delta=0.00001,\n",
        "    patience=20,\n",
        "    verbose=1,\n",
        "    mode=\"auto\",\n",
        "    baseline=None,\n",
        "    restore_best_weights=False\n",
        ")"
      ],
      "metadata": {
        "id": "Oioq-JLm-mxT"
      },
      "execution_count": null,
      "outputs": []
    },
    {
      "cell_type": "code",
      "source": [
        "history = Xception_model.fit(X_train,y_train,epochs=50,validation_split=0.2,callbacks=callback)"
      ],
      "metadata": {
        "colab": {
          "base_uri": "https://localhost:8080/"
        },
        "id": "8OeyBwkz-pP9",
        "outputId": "6f495a82-4c21-45cd-ff6e-0a813339d91e"
      },
      "execution_count": null,
      "outputs": [
        {
          "output_type": "stream",
          "name": "stdout",
          "text": [
            "Epoch 1/50\n",
            "1250/1250 [==============================] - 18s 11ms/step - loss: 4.1296 - accuracy: 0.0625 - val_loss: 3.8739 - val_accuracy: 0.0954\n",
            "Epoch 2/50\n",
            "1250/1250 [==============================] - 13s 10ms/step - loss: 3.6650 - accuracy: 0.1264 - val_loss: 3.7023 - val_accuracy: 0.1280\n",
            "Epoch 3/50\n",
            "1250/1250 [==============================] - 13s 10ms/step - loss: 3.3875 - accuracy: 0.1756 - val_loss: 3.6521 - val_accuracy: 0.1476\n",
            "Epoch 4/50\n",
            "1250/1250 [==============================] - 13s 10ms/step - loss: 3.1270 - accuracy: 0.2254 - val_loss: 3.7327 - val_accuracy: 0.1507\n",
            "Epoch 5/50\n",
            "1250/1250 [==============================] - 13s 10ms/step - loss: 2.8607 - accuracy: 0.2800 - val_loss: 3.8438 - val_accuracy: 0.1518\n",
            "Epoch 6/50\n",
            "1250/1250 [==============================] - 13s 10ms/step - loss: 2.5939 - accuracy: 0.3370 - val_loss: 4.1685 - val_accuracy: 0.1464\n",
            "Epoch 7/50\n",
            "1250/1250 [==============================] - 13s 10ms/step - loss: 2.3625 - accuracy: 0.3915 - val_loss: 4.4794 - val_accuracy: 0.1459\n",
            "Epoch 8/50\n",
            "1250/1250 [==============================] - 13s 10ms/step - loss: 2.1537 - accuracy: 0.4420 - val_loss: 4.7898 - val_accuracy: 0.1445\n",
            "Epoch 9/50\n",
            "1250/1250 [==============================] - 13s 10ms/step - loss: 1.9746 - accuracy: 0.4904 - val_loss: 5.2544 - val_accuracy: 0.1417\n",
            "Epoch 10/50\n",
            "1250/1250 [==============================] - 13s 10ms/step - loss: 1.8271 - accuracy: 0.5269 - val_loss: 5.8185 - val_accuracy: 0.1399\n",
            "Epoch 11/50\n",
            "1250/1250 [==============================] - 13s 10ms/step - loss: 1.7111 - accuracy: 0.5586 - val_loss: 6.2869 - val_accuracy: 0.1361\n",
            "Epoch 12/50\n",
            "1250/1250 [==============================] - 13s 10ms/step - loss: 1.6076 - accuracy: 0.5835 - val_loss: 6.7965 - val_accuracy: 0.1403\n",
            "Epoch 13/50\n",
            "1250/1250 [==============================] - 13s 10ms/step - loss: 1.5255 - accuracy: 0.6087 - val_loss: 6.9343 - val_accuracy: 0.1386\n",
            "Epoch 14/50\n",
            "1250/1250 [==============================] - 13s 10ms/step - loss: 1.4578 - accuracy: 0.6277 - val_loss: 7.5531 - val_accuracy: 0.1322\n",
            "Epoch 15/50\n",
            "1250/1250 [==============================] - 13s 10ms/step - loss: 1.4030 - accuracy: 0.6434 - val_loss: 7.9078 - val_accuracy: 0.1357\n",
            "Epoch 16/50\n",
            "1250/1250 [==============================] - 13s 10ms/step - loss: 1.3493 - accuracy: 0.6582 - val_loss: 8.0129 - val_accuracy: 0.1294\n",
            "Epoch 17/50\n",
            "1250/1250 [==============================] - 13s 10ms/step - loss: 1.3093 - accuracy: 0.6688 - val_loss: 8.5867 - val_accuracy: 0.1352\n",
            "Epoch 18/50\n",
            "1250/1250 [==============================] - 13s 10ms/step - loss: 1.2647 - accuracy: 0.6831 - val_loss: 9.2974 - val_accuracy: 0.1294\n",
            "Epoch 19/50\n",
            "1250/1250 [==============================] - 13s 10ms/step - loss: 1.2293 - accuracy: 0.6933 - val_loss: 9.5301 - val_accuracy: 0.1319\n",
            "Epoch 20/50\n",
            "1250/1250 [==============================] - 13s 10ms/step - loss: 1.1932 - accuracy: 0.6996 - val_loss: 9.5445 - val_accuracy: 0.1340\n",
            "Epoch 21/50\n",
            "1250/1250 [==============================] - 13s 10ms/step - loss: 1.1782 - accuracy: 0.7063 - val_loss: 10.0908 - val_accuracy: 0.1342\n",
            "Epoch 22/50\n",
            "1250/1250 [==============================] - 13s 10ms/step - loss: 1.1447 - accuracy: 0.7170 - val_loss: 9.9130 - val_accuracy: 0.1264\n",
            "Epoch 23/50\n",
            "1250/1250 [==============================] - 13s 10ms/step - loss: 1.1145 - accuracy: 0.7239 - val_loss: 10.8312 - val_accuracy: 0.1334\n",
            "Epoch 23: early stopping\n"
          ]
        }
      ]
    },
    {
      "cell_type": "code",
      "source": [],
      "metadata": {
        "id": "fFydW1ou2sKV"
      },
      "execution_count": null,
      "outputs": []
    }
  ]
}